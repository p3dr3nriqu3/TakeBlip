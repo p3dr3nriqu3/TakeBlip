{
  "nbformat": 4,
  "nbformat_minor": 0,
  "metadata": {
    "colab": {
      "name": "TesteTakeBlip",
      "provenance": [],
      "mount_file_id": "1uKFI7BaYvtcP-TUwMaxLISl-mrCEttUR",
      "authorship_tag": "ABX9TyPX4GOXf5ttNgeFILsu80eY",
      "include_colab_link": true
    },
    "kernelspec": {
      "name": "python3",
      "display_name": "Python 3"
    }
  },
  "cells": [
    {
      "cell_type": "markdown",
      "metadata": {
        "id": "view-in-github",
        "colab_type": "text"
      },
      "source": [
        "<a href=\"https://colab.research.google.com/github/p3dr3nriqu3/TakeBlip/blob/main/TesteTakeBlip.ipynb\" target=\"_parent\"><img src=\"https://colab.research.google.com/assets/colab-badge.svg\" alt=\"Open In Colab\"/></a>"
      ]
    },
    {
      "cell_type": "code",
      "metadata": {
        "id": "0kBU4oTatb3B"
      },
      "source": [
        "url = \"/content/drive/MyDrive/Atividade Técnica - Cai na folia/DadosBrutosEventTracks (3).csv\""
      ],
      "execution_count": 1,
      "outputs": []
    },
    {
      "cell_type": "code",
      "metadata": {
        "id": "qkKores9R2iP"
      },
      "source": [
        "import pandas as pd\r\n",
        "import numpy as np\r\n",
        "import matplotlib.pyplot as plt\r\n",
        "import  matplotlib.ticker as ticker \r\n",
        "import seaborn as sns"
      ],
      "execution_count": 2,
      "outputs": []
    },
    {
      "cell_type": "code",
      "metadata": {
        "id": "0rK_mV6HSGRR"
      },
      "source": [
        "dados = pd.read_csv(url,\r\n",
        "        error_bad_lines=False,\r\n",
        "        encoding=\"ISO-8859-1\", \r\n",
        "        #parse_dates=['datetime'], \r\n",
        "        #sep='delimiter',\r\n",
        "        engine='python',\r\n",
        "        sep=\";\"\r\n",
        "        #skiprows=2            \r\n",
        "        );"
      ],
      "execution_count": 31,
      "outputs": []
    },
    {
      "cell_type": "code",
      "metadata": {
        "colab": {
          "base_uri": "https://localhost:8080/",
          "height": 204
        },
        "id": "rnEdmBxrXpcF",
        "outputId": "58ca199a-1c6a-48dc-91a9-f758f5df4d19"
      },
      "source": [
        "dados.sample(5)"
      ],
      "execution_count": 32,
      "outputs": [
        {
          "output_type": "execute_result",
          "data": {
            "text/html": [
              "<div>\n",
              "<style scoped>\n",
              "    .dataframe tbody tr th:only-of-type {\n",
              "        vertical-align: middle;\n",
              "    }\n",
              "\n",
              "    .dataframe tbody tr th {\n",
              "        vertical-align: top;\n",
              "    }\n",
              "\n",
              "    .dataframe thead th {\n",
              "        text-align: right;\n",
              "    }\n",
              "</style>\n",
              "<table border=\"1\" class=\"dataframe\">\n",
              "  <thead>\n",
              "    <tr style=\"text-align: right;\">\n",
              "      <th></th>\n",
              "      <th>ï»¿EventTrackSequentialID</th>\n",
              "      <th>OwnerIdentity</th>\n",
              "      <th>StorageDate</th>\n",
              "      <th>Category</th>\n",
              "      <th>Action</th>\n",
              "    </tr>\n",
              "  </thead>\n",
              "  <tbody>\n",
              "    <tr>\n",
              "      <th>12530</th>\n",
              "      <td>22615</td>\n",
              "      <td>carnabelo@msging.net</td>\n",
              "      <td>2018-02-07 16:26:36.48 -02:00</td>\n",
              "      <td>Flow</td>\n",
              "      <td>API  - Carrossel blocos -  Hoje</td>\n",
              "    </tr>\n",
              "    <tr>\n",
              "      <th>21159</th>\n",
              "      <td>31244</td>\n",
              "      <td>carnabelo@msging.net</td>\n",
              "      <td>2018-02-09 23:16:42.33 -02:00</td>\n",
              "      <td>Flow</td>\n",
              "      <td>Agendar - Push</td>\n",
              "    </tr>\n",
              "    <tr>\n",
              "      <th>12602</th>\n",
              "      <td>22687</td>\n",
              "      <td>carnabelo@msging.net</td>\n",
              "      <td>2018-02-07 16:40:16.60 -02:00</td>\n",
              "      <td>Flow</td>\n",
              "      <td>API - Buscar info do bloco</td>\n",
              "    </tr>\n",
              "    <tr>\n",
              "      <th>6669</th>\n",
              "      <td>16754</td>\n",
              "      <td>carnabelo@msging.net</td>\n",
              "      <td>2018-02-04 15:48:23.88 -02:00</td>\n",
              "      <td>Flow</td>\n",
              "      <td>API  - Carrossel blocos -  Hoje</td>\n",
              "    </tr>\n",
              "    <tr>\n",
              "      <th>18996</th>\n",
              "      <td>29081</td>\n",
              "      <td>carnabelo@msging.net</td>\n",
              "      <td>2018-02-09 16:03:32.45 -02:00</td>\n",
              "      <td>Flow</td>\n",
              "      <td>API - Salvar - Bloco</td>\n",
              "    </tr>\n",
              "  </tbody>\n",
              "</table>\n",
              "</div>"
            ],
            "text/plain": [
              "       ï»¿EventTrackSequentialID  ...                           Action\n",
              "12530                      22615  ...  API  - Carrossel blocos -  Hoje\n",
              "21159                      31244  ...                   Agendar - Push\n",
              "12602                      22687  ...       API - Buscar info do bloco\n",
              "6669                       16754  ...  API  - Carrossel blocos -  Hoje\n",
              "18996                      29081  ...             API - Salvar - Bloco\n",
              "\n",
              "[5 rows x 5 columns]"
            ]
          },
          "metadata": {
            "tags": []
          },
          "execution_count": 32
        }
      ]
    },
    {
      "cell_type": "code",
      "metadata": {
        "colab": {
          "base_uri": "https://localhost:8080/"
        },
        "id": "M8ogC4w_dC_G",
        "outputId": "17d7d1aa-c132-4abe-c076-421c52e67c7a"
      },
      "source": [
        "dados.info()"
      ],
      "execution_count": 33,
      "outputs": [
        {
          "output_type": "stream",
          "text": [
            "<class 'pandas.core.frame.DataFrame'>\n",
            "RangeIndex: 52900 entries, 0 to 52899\n",
            "Data columns (total 5 columns):\n",
            " #   Column                     Non-Null Count  Dtype \n",
            "---  ------                     --------------  ----- \n",
            " 0   ï»¿EventTrackSequentialID  52900 non-null  int64 \n",
            " 1   OwnerIdentity              52900 non-null  object\n",
            " 2   StorageDate                52900 non-null  object\n",
            " 3   Category                   52900 non-null  object\n",
            " 4   Action                     52900 non-null  object\n",
            "dtypes: int64(1), object(4)\n",
            "memory usage: 2.0+ MB\n"
          ],
          "name": "stdout"
        }
      ]
    },
    {
      "cell_type": "code",
      "metadata": {
        "colab": {
          "base_uri": "https://localhost:8080/",
          "height": 204
        },
        "id": "SBN6wh6kdG1c",
        "outputId": "39ade076-c856-437e-e0a9-03c20e8c6231"
      },
      "source": [
        "dados.head()"
      ],
      "execution_count": 34,
      "outputs": [
        {
          "output_type": "execute_result",
          "data": {
            "text/html": [
              "<div>\n",
              "<style scoped>\n",
              "    .dataframe tbody tr th:only-of-type {\n",
              "        vertical-align: middle;\n",
              "    }\n",
              "\n",
              "    .dataframe tbody tr th {\n",
              "        vertical-align: top;\n",
              "    }\n",
              "\n",
              "    .dataframe thead th {\n",
              "        text-align: right;\n",
              "    }\n",
              "</style>\n",
              "<table border=\"1\" class=\"dataframe\">\n",
              "  <thead>\n",
              "    <tr style=\"text-align: right;\">\n",
              "      <th></th>\n",
              "      <th>ï»¿EventTrackSequentialID</th>\n",
              "      <th>OwnerIdentity</th>\n",
              "      <th>StorageDate</th>\n",
              "      <th>Category</th>\n",
              "      <th>Action</th>\n",
              "    </tr>\n",
              "  </thead>\n",
              "  <tbody>\n",
              "    <tr>\n",
              "      <th>0</th>\n",
              "      <td>100</td>\n",
              "      <td>carnabelo@msging.net</td>\n",
              "      <td>2018-02-02 13:51:59.72 -02:00</td>\n",
              "      <td>Flow</td>\n",
              "      <td>Boas vindas</td>\n",
              "    </tr>\n",
              "    <tr>\n",
              "      <th>1</th>\n",
              "      <td>101</td>\n",
              "      <td>carnabelo@msging.net</td>\n",
              "      <td>2018-02-02 13:52:10.89 -02:00</td>\n",
              "      <td>Flow</td>\n",
              "      <td>Objetivo - Beber</td>\n",
              "    </tr>\n",
              "    <tr>\n",
              "      <th>2</th>\n",
              "      <td>102</td>\n",
              "      <td>carnabelo@msging.net</td>\n",
              "      <td>2018-02-02 13:52:10.98 -02:00</td>\n",
              "      <td>Objetivo</td>\n",
              "      <td>Beber</td>\n",
              "    </tr>\n",
              "    <tr>\n",
              "      <th>3</th>\n",
              "      <td>103</td>\n",
              "      <td>carnabelo@msging.net</td>\n",
              "      <td>2018-02-02 13:52:13.15 -02:00</td>\n",
              "      <td>Flow</td>\n",
              "      <td>Intro</td>\n",
              "    </tr>\n",
              "    <tr>\n",
              "      <th>4</th>\n",
              "      <td>104</td>\n",
              "      <td>carnabelo@msging.net</td>\n",
              "      <td>2018-02-02 13:52:17.34 -02:00</td>\n",
              "      <td>Flow</td>\n",
              "      <td>Menu</td>\n",
              "    </tr>\n",
              "  </tbody>\n",
              "</table>\n",
              "</div>"
            ],
            "text/plain": [
              "   ï»¿EventTrackSequentialID         OwnerIdentity  ...  Category            Action\n",
              "0                        100  carnabelo@msging.net  ...      Flow       Boas vindas\n",
              "1                        101  carnabelo@msging.net  ...      Flow  Objetivo - Beber\n",
              "2                        102  carnabelo@msging.net  ...  Objetivo             Beber\n",
              "3                        103  carnabelo@msging.net  ...      Flow             Intro\n",
              "4                        104  carnabelo@msging.net  ...      Flow              Menu\n",
              "\n",
              "[5 rows x 5 columns]"
            ]
          },
          "metadata": {
            "tags": []
          },
          "execution_count": 34
        }
      ]
    },
    {
      "cell_type": "code",
      "metadata": {
        "colab": {
          "base_uri": "https://localhost:8080/"
        },
        "id": "sDJK_k1VhK7f",
        "outputId": "cbfb013e-f678-46c6-d713-a3e9110395d4"
      },
      "source": [
        "#Quantidades de linas e colunas do DataFrame\r\n",
        "dados.shape"
      ],
      "execution_count": 35,
      "outputs": [
        {
          "output_type": "execute_result",
          "data": {
            "text/plain": [
              "(52900, 5)"
            ]
          },
          "metadata": {
            "tags": []
          },
          "execution_count": 35
        }
      ]
    },
    {
      "cell_type": "code",
      "metadata": {
        "colab": {
          "base_uri": "https://localhost:8080/"
        },
        "id": "IDGGAugIhibc",
        "outputId": "622b14ac-0193-4b1f-bf94-eda4d3aeb5b6"
      },
      "source": [
        "#descrição do Index\r\n",
        "dados.index"
      ],
      "execution_count": 36,
      "outputs": [
        {
          "output_type": "execute_result",
          "data": {
            "text/plain": [
              "RangeIndex(start=0, stop=52900, step=1)"
            ]
          },
          "metadata": {
            "tags": []
          },
          "execution_count": 36
        }
      ]
    },
    {
      "cell_type": "code",
      "metadata": {
        "colab": {
          "base_uri": "https://localhost:8080/"
        },
        "id": "7Qpb6Zf3hvKv",
        "outputId": "d0292a1c-9fd5-4662-e955-0d28764f6d4a"
      },
      "source": [
        "dados.columns"
      ],
      "execution_count": 37,
      "outputs": [
        {
          "output_type": "execute_result",
          "data": {
            "text/plain": [
              "Index(['ï»¿EventTrackSequentialID', 'OwnerIdentity', 'StorageDate', 'Category',\n",
              "       'Action'],\n",
              "      dtype='object')"
            ]
          },
          "metadata": {
            "tags": []
          },
          "execution_count": 37
        }
      ]
    },
    {
      "cell_type": "code",
      "metadata": {
        "id": "3jYcVtgNh7RF"
      },
      "source": [
        ""
      ],
      "execution_count": null,
      "outputs": []
    }
  ]
}