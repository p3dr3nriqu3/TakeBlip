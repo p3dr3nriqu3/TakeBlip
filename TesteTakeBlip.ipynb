{
  "nbformat": 4,
  "nbformat_minor": 0,
  "metadata": {
    "colab": {
      "name": "TesteTakeBlip",
      "provenance": [],
      "mount_file_id": "https://github.com/p3dr3nriqu3/TakeBlip/blob/main/TesteTakeBlip.ipynb",
      "authorship_tag": "ABX9TyN8AjGiLpBuG6b6We4Bzi2u",
      "include_colab_link": true
    },
    "kernelspec": {
      "name": "python3",
      "display_name": "Python 3"
    }
  },
  "cells": [
    {
      "cell_type": "markdown",
      "metadata": {
        "id": "view-in-github",
        "colab_type": "text"
      },
      "source": [
        "<a href=\"https://colab.research.google.com/github/p3dr3nriqu3/TakeBlip/blob/main/TesteTakeBlip.ipynb\" target=\"_parent\"><img src=\"https://colab.research.google.com/assets/colab-badge.svg\" alt=\"Open In Colab\"/></a>"
      ]
    },
    {
      "cell_type": "code",
      "metadata": {
        "id": "0kBU4oTatb3B"
      },
      "source": [
        "url = \"/content/drive/MyDrive/Atividade Técnica - Cai na folia/DadosBrutosEventTracks (3).csv\""
      ],
      "execution_count": 1,
      "outputs": []
    },
    {
      "cell_type": "markdown",
      "metadata": {
        "id": "Asw2Didci2QN"
      },
      "source": [
        "Importando as Bibliotecas:"
      ]
    },
    {
      "cell_type": "code",
      "metadata": {
        "id": "qkKores9R2iP"
      },
      "source": [
        "import pandas as pd\r\n",
        "import numpy as np\r\n"
      ],
      "execution_count": 2,
      "outputs": []
    },
    {
      "cell_type": "markdown",
      "metadata": {
        "id": "NMSu2X7ajJxV"
      },
      "source": [
        "Análises:"
      ]
    },
    {
      "cell_type": "code",
      "metadata": {
        "id": "0rK_mV6HSGRR"
      },
      "source": [
        "dados = pd.read_csv(url,\r\n",
        "        error_bad_lines=False,\r\n",
        "        encoding=\"ISO-8859-1\", \r\n",
        "        #parse_dates=['datetime'], \r\n",
        "        #sep='delimiter',\r\n",
        "        engine='python',\r\n",
        "        skipfooter = 12,\r\n",
        "        sep=\";\"\r\n",
        "        #skiprows=2            \r\n",
        "        );"
      ],
      "execution_count": 3,
      "outputs": []
    },
    {
      "cell_type": "code",
      "metadata": {
        "colab": {
          "base_uri": "https://localhost:8080/",
          "height": 204
        },
        "id": "rnEdmBxrXpcF",
        "outputId": "7e2347c0-c99b-45cd-f300-ae07b831b388"
      },
      "source": [
        "#Uma pequena visualização aleatória para conhecer a base e suas variáveis.\r\n",
        "dados.sample(5)"
      ],
      "execution_count": 4,
      "outputs": [
        {
          "output_type": "execute_result",
          "data": {
            "text/html": [
              "<div>\n",
              "<style scoped>\n",
              "    .dataframe tbody tr th:only-of-type {\n",
              "        vertical-align: middle;\n",
              "    }\n",
              "\n",
              "    .dataframe tbody tr th {\n",
              "        vertical-align: top;\n",
              "    }\n",
              "\n",
              "    .dataframe thead th {\n",
              "        text-align: right;\n",
              "    }\n",
              "</style>\n",
              "<table border=\"1\" class=\"dataframe\">\n",
              "  <thead>\n",
              "    <tr style=\"text-align: right;\">\n",
              "      <th></th>\n",
              "      <th>ï»¿EventTrackSequentialID</th>\n",
              "      <th>OwnerIdentity</th>\n",
              "      <th>StorageDate</th>\n",
              "      <th>Category</th>\n",
              "      <th>Action</th>\n",
              "    </tr>\n",
              "  </thead>\n",
              "  <tbody>\n",
              "    <tr>\n",
              "      <th>1545</th>\n",
              "      <td>1654</td>\n",
              "      <td>carnabelo@msging.net</td>\n",
              "      <td>2018-02-02 17:58:02.27 -02:00</td>\n",
              "      <td>Flow</td>\n",
              "      <td>Objetivo - Dancar</td>\n",
              "    </tr>\n",
              "    <tr>\n",
              "      <th>19974</th>\n",
              "      <td>30059</td>\n",
              "      <td>carnabelo@msging.net</td>\n",
              "      <td>2018-02-09 17:22:30.76 -02:00</td>\n",
              "      <td>Flow</td>\n",
              "      <td>API  - Carrossel blocos  - Agenda</td>\n",
              "    </tr>\n",
              "    <tr>\n",
              "      <th>32290</th>\n",
              "      <td>42375</td>\n",
              "      <td>carnabelo@msging.net</td>\n",
              "      <td>2018-02-11 16:15:27.64 -02:00</td>\n",
              "      <td>Flow</td>\n",
              "      <td>API -  Carrossel - Bairro - Hoje</td>\n",
              "    </tr>\n",
              "    <tr>\n",
              "      <th>24493</th>\n",
              "      <td>34578</td>\n",
              "      <td>carnabelo@msging.net</td>\n",
              "      <td>2018-02-10 14:39:23.56 -02:00</td>\n",
              "      <td>Flow</td>\n",
              "      <td>Criar lista de distribuicao</td>\n",
              "    </tr>\n",
              "    <tr>\n",
              "      <th>17832</th>\n",
              "      <td>27917</td>\n",
              "      <td>carnabelo@msging.net</td>\n",
              "      <td>2018-02-09 12:00:22.90 -02:00</td>\n",
              "      <td>Flow</td>\n",
              "      <td>API - Consultar blocos hoje</td>\n",
              "    </tr>\n",
              "  </tbody>\n",
              "</table>\n",
              "</div>"
            ],
            "text/plain": [
              "       ï»¿EventTrackSequentialID  ...                             Action\n",
              "1545                        1654  ...                  Objetivo - Dancar\n",
              "19974                      30059  ...  API  - Carrossel blocos  - Agenda\n",
              "32290                      42375  ...   API -  Carrossel - Bairro - Hoje\n",
              "24493                      34578  ...        Criar lista de distribuicao\n",
              "17832                      27917  ...        API - Consultar blocos hoje\n",
              "\n",
              "[5 rows x 5 columns]"
            ]
          },
          "metadata": {
            "tags": []
          },
          "execution_count": 4
        }
      ]
    },
    {
      "cell_type": "code",
      "metadata": {
        "colab": {
          "base_uri": "https://localhost:8080/"
        },
        "id": "M8ogC4w_dC_G",
        "outputId": "1fa8fdc7-88be-42f1-950f-ace58fdefaa9"
      },
      "source": [
        "dados.info()"
      ],
      "execution_count": 5,
      "outputs": [
        {
          "output_type": "stream",
          "text": [
            "<class 'pandas.core.frame.DataFrame'>\n",
            "RangeIndex: 52888 entries, 0 to 52887\n",
            "Data columns (total 5 columns):\n",
            " #   Column                     Non-Null Count  Dtype \n",
            "---  ------                     --------------  ----- \n",
            " 0   ï»¿EventTrackSequentialID  52888 non-null  int64 \n",
            " 1   OwnerIdentity              52888 non-null  object\n",
            " 2   StorageDate                52888 non-null  object\n",
            " 3   Category                   52888 non-null  object\n",
            " 4   Action                     52888 non-null  object\n",
            "dtypes: int64(1), object(4)\n",
            "memory usage: 2.0+ MB\n"
          ],
          "name": "stdout"
        }
      ]
    },
    {
      "cell_type": "code",
      "metadata": {
        "id": "2UyppiOxjiHK"
      },
      "source": [
        "#Alterando o tipo da coluna \"StorageDate\" apra Datetime.\r\n",
        "dados['StorageDate'] = pd.to_datetime(dados['StorageDate'],yearfirst=True)"
      ],
      "execution_count": 6,
      "outputs": []
    },
    {
      "cell_type": "code",
      "metadata": {
        "colab": {
          "base_uri": "https://localhost:8080/"
        },
        "id": "SvqOlqw-j66m",
        "outputId": "bbda4067-1d11-4a94-a220-0c542e56a195"
      },
      "source": [
        "dados.info()"
      ],
      "execution_count": 7,
      "outputs": [
        {
          "output_type": "stream",
          "text": [
            "<class 'pandas.core.frame.DataFrame'>\n",
            "RangeIndex: 52888 entries, 0 to 52887\n",
            "Data columns (total 5 columns):\n",
            " #   Column                     Non-Null Count  Dtype \n",
            "---  ------                     --------------  ----- \n",
            " 0   ï»¿EventTrackSequentialID  52888 non-null  int64 \n",
            " 1   OwnerIdentity              52888 non-null  object\n",
            " 2   StorageDate                52888 non-null  object\n",
            " 3   Category                   52888 non-null  object\n",
            " 4   Action                     52888 non-null  object\n",
            "dtypes: int64(1), object(4)\n",
            "memory usage: 2.0+ MB\n"
          ],
          "name": "stdout"
        }
      ]
    },
    {
      "cell_type": "code",
      "metadata": {
        "colab": {
          "base_uri": "https://localhost:8080/",
          "height": 204
        },
        "id": "SBN6wh6kdG1c",
        "outputId": "61de88ce-0ad6-4eb7-ba6d-bce90235ac14"
      },
      "source": [
        "#Lendo as 5 primeira linhas do arquivo\r\n",
        "dados.head()"
      ],
      "execution_count": 8,
      "outputs": [
        {
          "output_type": "execute_result",
          "data": {
            "text/html": [
              "<div>\n",
              "<style scoped>\n",
              "    .dataframe tbody tr th:only-of-type {\n",
              "        vertical-align: middle;\n",
              "    }\n",
              "\n",
              "    .dataframe tbody tr th {\n",
              "        vertical-align: top;\n",
              "    }\n",
              "\n",
              "    .dataframe thead th {\n",
              "        text-align: right;\n",
              "    }\n",
              "</style>\n",
              "<table border=\"1\" class=\"dataframe\">\n",
              "  <thead>\n",
              "    <tr style=\"text-align: right;\">\n",
              "      <th></th>\n",
              "      <th>ï»¿EventTrackSequentialID</th>\n",
              "      <th>OwnerIdentity</th>\n",
              "      <th>StorageDate</th>\n",
              "      <th>Category</th>\n",
              "      <th>Action</th>\n",
              "    </tr>\n",
              "  </thead>\n",
              "  <tbody>\n",
              "    <tr>\n",
              "      <th>0</th>\n",
              "      <td>100</td>\n",
              "      <td>carnabelo@msging.net</td>\n",
              "      <td>2018-02-02 13:51:59.720000-02:00</td>\n",
              "      <td>Flow</td>\n",
              "      <td>Boas vindas</td>\n",
              "    </tr>\n",
              "    <tr>\n",
              "      <th>1</th>\n",
              "      <td>101</td>\n",
              "      <td>carnabelo@msging.net</td>\n",
              "      <td>2018-02-02 13:52:10.890000-02:00</td>\n",
              "      <td>Flow</td>\n",
              "      <td>Objetivo - Beber</td>\n",
              "    </tr>\n",
              "    <tr>\n",
              "      <th>2</th>\n",
              "      <td>102</td>\n",
              "      <td>carnabelo@msging.net</td>\n",
              "      <td>2018-02-02 13:52:10.980000-02:00</td>\n",
              "      <td>Objetivo</td>\n",
              "      <td>Beber</td>\n",
              "    </tr>\n",
              "    <tr>\n",
              "      <th>3</th>\n",
              "      <td>103</td>\n",
              "      <td>carnabelo@msging.net</td>\n",
              "      <td>2018-02-02 13:52:13.150000-02:00</td>\n",
              "      <td>Flow</td>\n",
              "      <td>Intro</td>\n",
              "    </tr>\n",
              "    <tr>\n",
              "      <th>4</th>\n",
              "      <td>104</td>\n",
              "      <td>carnabelo@msging.net</td>\n",
              "      <td>2018-02-02 13:52:17.340000-02:00</td>\n",
              "      <td>Flow</td>\n",
              "      <td>Menu</td>\n",
              "    </tr>\n",
              "  </tbody>\n",
              "</table>\n",
              "</div>"
            ],
            "text/plain": [
              "   ï»¿EventTrackSequentialID         OwnerIdentity  ...  Category            Action\n",
              "0                        100  carnabelo@msging.net  ...      Flow       Boas vindas\n",
              "1                        101  carnabelo@msging.net  ...      Flow  Objetivo - Beber\n",
              "2                        102  carnabelo@msging.net  ...  Objetivo             Beber\n",
              "3                        103  carnabelo@msging.net  ...      Flow             Intro\n",
              "4                        104  carnabelo@msging.net  ...      Flow              Menu\n",
              "\n",
              "[5 rows x 5 columns]"
            ]
          },
          "metadata": {
            "tags": []
          },
          "execution_count": 8
        }
      ]
    },
    {
      "cell_type": "code",
      "metadata": {
        "colab": {
          "base_uri": "https://localhost:8080/",
          "height": 204
        },
        "id": "mLfmloXxliOy",
        "outputId": "be88e7e2-6fcd-49c0-a844-13b2626218e5"
      },
      "source": [
        "#Lendo as 5 ultimas linhas do arquivo\r\n",
        "dados.tail()"
      ],
      "execution_count": 9,
      "outputs": [
        {
          "output_type": "execute_result",
          "data": {
            "text/html": [
              "<div>\n",
              "<style scoped>\n",
              "    .dataframe tbody tr th:only-of-type {\n",
              "        vertical-align: middle;\n",
              "    }\n",
              "\n",
              "    .dataframe tbody tr th {\n",
              "        vertical-align: top;\n",
              "    }\n",
              "\n",
              "    .dataframe thead th {\n",
              "        text-align: right;\n",
              "    }\n",
              "</style>\n",
              "<table border=\"1\" class=\"dataframe\">\n",
              "  <thead>\n",
              "    <tr style=\"text-align: right;\">\n",
              "      <th></th>\n",
              "      <th>ï»¿EventTrackSequentialID</th>\n",
              "      <th>OwnerIdentity</th>\n",
              "      <th>StorageDate</th>\n",
              "      <th>Category</th>\n",
              "      <th>Action</th>\n",
              "    </tr>\n",
              "  </thead>\n",
              "  <tbody>\n",
              "    <tr>\n",
              "      <th>52883</th>\n",
              "      <td>62968</td>\n",
              "      <td>carnabelo@msging.net</td>\n",
              "      <td>2018-02-27 09:10:51.160000-03:00</td>\n",
              "      <td>Flow</td>\n",
              "      <td>Fallback - Diversos</td>\n",
              "    </tr>\n",
              "    <tr>\n",
              "      <th>52884</th>\n",
              "      <td>62969</td>\n",
              "      <td>carnabelo@msging.net</td>\n",
              "      <td>2018-02-27 09:10:51.250000-03:00</td>\n",
              "      <td>Flow</td>\n",
              "      <td>Fallback - Musica</td>\n",
              "    </tr>\n",
              "    <tr>\n",
              "      <th>52885</th>\n",
              "      <td>62970</td>\n",
              "      <td>carnabelo@msging.net</td>\n",
              "      <td>2018-02-27 09:10:51.340000-03:00</td>\n",
              "      <td>Flow</td>\n",
              "      <td>Playlists</td>\n",
              "    </tr>\n",
              "    <tr>\n",
              "      <th>52886</th>\n",
              "      <td>62971</td>\n",
              "      <td>carnabelo@msging.net</td>\n",
              "      <td>2018-02-27 09:10:53.480000-03:00</td>\n",
              "      <td>Flow</td>\n",
              "      <td>Ouvir playlist</td>\n",
              "    </tr>\n",
              "    <tr>\n",
              "      <th>52887</th>\n",
              "      <td>62972</td>\n",
              "      <td>carnabelo@msging.net</td>\n",
              "      <td>2018-02-27 09:15:24.220000-03:00</td>\n",
              "      <td>Flow</td>\n",
              "      <td>Intro - Bot</td>\n",
              "    </tr>\n",
              "  </tbody>\n",
              "</table>\n",
              "</div>"
            ],
            "text/plain": [
              "       ï»¿EventTrackSequentialID  ...               Action\n",
              "52883                      62968  ...  Fallback - Diversos\n",
              "52884                      62969  ...    Fallback - Musica\n",
              "52885                      62970  ...            Playlists\n",
              "52886                      62971  ...       Ouvir playlist\n",
              "52887                      62972  ...          Intro - Bot\n",
              "\n",
              "[5 rows x 5 columns]"
            ]
          },
          "metadata": {
            "tags": []
          },
          "execution_count": 9
        }
      ]
    },
    {
      "cell_type": "code",
      "metadata": {
        "colab": {
          "base_uri": "https://localhost:8080/"
        },
        "id": "sDJK_k1VhK7f",
        "outputId": "f8b8092c-afc4-4a18-8ad2-8a2d6f879020"
      },
      "source": [
        "#Quantidades de linas e colunas do DataFrame\r\n",
        "dados.shape"
      ],
      "execution_count": 10,
      "outputs": [
        {
          "output_type": "execute_result",
          "data": {
            "text/plain": [
              "(52888, 5)"
            ]
          },
          "metadata": {
            "tags": []
          },
          "execution_count": 10
        }
      ]
    },
    {
      "cell_type": "code",
      "metadata": {
        "colab": {
          "base_uri": "https://localhost:8080/"
        },
        "id": "IDGGAugIhibc",
        "outputId": "9762b775-0fc7-4d88-a98d-693a0c91e7c5"
      },
      "source": [
        "#Descrição do Index\r\n",
        "dados.index"
      ],
      "execution_count": 11,
      "outputs": [
        {
          "output_type": "execute_result",
          "data": {
            "text/plain": [
              "RangeIndex(start=0, stop=52888, step=1)"
            ]
          },
          "metadata": {
            "tags": []
          },
          "execution_count": 11
        }
      ]
    },
    {
      "cell_type": "code",
      "metadata": {
        "colab": {
          "base_uri": "https://localhost:8080/"
        },
        "id": "7Qpb6Zf3hvKv",
        "outputId": "318d306f-20fb-49d5-dd5f-1fcce805a1e6"
      },
      "source": [
        "#Contagem de Dados Não Nulos\r\n",
        "dados.count()"
      ],
      "execution_count": 12,
      "outputs": [
        {
          "output_type": "execute_result",
          "data": {
            "text/plain": [
              "ï»¿EventTrackSequentialID    52888\n",
              "OwnerIdentity                52888\n",
              "StorageDate                  52888\n",
              "Category                     52888\n",
              "Action                       52888\n",
              "dtype: int64"
            ]
          },
          "metadata": {
            "tags": []
          },
          "execution_count": 12
        }
      ]
    },
    {
      "cell_type": "code",
      "metadata": {
        "colab": {
          "base_uri": "https://localhost:8080/"
        },
        "id": "iN2dooXGmETA",
        "outputId": "ca745ddf-4e1a-4d91-fa1c-202b63b18726"
      },
      "source": [
        "dados[\"OwnerIdentity\"]"
      ],
      "execution_count": 13,
      "outputs": [
        {
          "output_type": "execute_result",
          "data": {
            "text/plain": [
              "0        carnabelo@msging.net\n",
              "1        carnabelo@msging.net\n",
              "2        carnabelo@msging.net\n",
              "3        carnabelo@msging.net\n",
              "4        carnabelo@msging.net\n",
              "                 ...         \n",
              "52883    carnabelo@msging.net\n",
              "52884    carnabelo@msging.net\n",
              "52885    carnabelo@msging.net\n",
              "52886    carnabelo@msging.net\n",
              "52887    carnabelo@msging.net\n",
              "Name: OwnerIdentity, Length: 52888, dtype: object"
            ]
          },
          "metadata": {
            "tags": []
          },
          "execution_count": 13
        }
      ]
    },
    {
      "cell_type": "code",
      "metadata": {
        "id": "HyXaMd7_mkzD"
      },
      "source": [
        "url2 = \"/content/drive/MyDrive/Atividade Técnica - Cai na folia/DadosBrutosMessages (1).csv\""
      ],
      "execution_count": 14,
      "outputs": []
    },
    {
      "cell_type": "code",
      "metadata": {
        "id": "hYoImk2grOLK"
      },
      "source": [
        "dados2 = pd.read_csv(url2,\r\n",
        "        error_bad_lines=False,\r\n",
        "        encoding=\"ISO-8859-1\", \r\n",
        "        #parse_dates=['datetime'], \r\n",
        "        #sep='delimiter',\r\n",
        "        engine='python',\r\n",
        "        skipfooter = 12,\r\n",
        "        sep=\";\"\r\n",
        "        #skiprows=2            \r\n",
        "        );"
      ],
      "execution_count": 15,
      "outputs": []
    },
    {
      "cell_type": "code",
      "metadata": {
        "colab": {
          "base_uri": "https://localhost:8080/",
          "height": 818
        },
        "id": "8ReWqN2yrXuM",
        "outputId": "a2cc6967-d8d1-4363-95a2-78918857d25b"
      },
      "source": [
        "dados2.sample(10)"
      ],
      "execution_count": 16,
      "outputs": [
        {
          "output_type": "execute_result",
          "data": {
            "text/html": [
              "<div>\n",
              "<style scoped>\n",
              "    .dataframe tbody tr th:only-of-type {\n",
              "        vertical-align: middle;\n",
              "    }\n",
              "\n",
              "    .dataframe tbody tr th {\n",
              "        vertical-align: top;\n",
              "    }\n",
              "\n",
              "    .dataframe thead th {\n",
              "        text-align: right;\n",
              "    }\n",
              "</style>\n",
              "<table border=\"1\" class=\"dataframe\">\n",
              "  <thead>\n",
              "    <tr style=\"text-align: right;\">\n",
              "      <th></th>\n",
              "      <th>ï»¿MessageSequentialID</th>\n",
              "      <th>StorageDate</th>\n",
              "      <th>FromIdentity</th>\n",
              "      <th>ToIdentity</th>\n",
              "      <th>Message</th>\n",
              "      <th>MessageOriginator</th>\n",
              "    </tr>\n",
              "  </thead>\n",
              "  <tbody>\n",
              "    <tr>\n",
              "      <th>25865</th>\n",
              "      <td>350281</td>\n",
              "      <td>2018-02-12 15:52:18.16 -02:00</td>\n",
              "      <td>1232463476785892@messenger.gw.msging.net</td>\n",
              "      <td>carnabelo@msging.net</td>\n",
              "      <td>Gostaria de saber quais os blocos saem amanhÃ£</td>\n",
              "      <td>User</td>\n",
              "    </tr>\n",
              "    <tr>\n",
              "      <th>24299</th>\n",
              "      <td>340950</td>\n",
              "      <td>2018-02-12 11:27:31.31 -02:00</td>\n",
              "      <td>carnabelo@msging.net</td>\n",
              "      <td>1804086959610506@messenger.gw.msging.net</td>\n",
              "      <td>A concentraÃ§Ã£o do NÃ£o Acredito Que Te Beije...</td>\n",
              "      <td>Bot</td>\n",
              "    </tr>\n",
              "    <tr>\n",
              "      <th>9179</th>\n",
              "      <td>211619</td>\n",
              "      <td>2018-02-07 23:26:35.88 -02:00</td>\n",
              "      <td>carnabelo@msging.net</td>\n",
              "      <td>1975430999151171@messenger.gw.msging.net</td>\n",
              "      <td>A cidade toda vai bombar!</td>\n",
              "      <td>Bot</td>\n",
              "    </tr>\n",
              "    <tr>\n",
              "      <th>9123</th>\n",
              "      <td>211080</td>\n",
              "      <td>2018-02-07 22:56:05.24 -02:00</td>\n",
              "      <td>carnabelo@msging.net</td>\n",
              "      <td>1859116107493654@messenger.gw.msging.net</td>\n",
              "      <td>Quando estiver quase na hora te chamo por aqui...</td>\n",
              "      <td>Bot</td>\n",
              "    </tr>\n",
              "    <tr>\n",
              "      <th>20809</th>\n",
              "      <td>312775</td>\n",
              "      <td>2018-02-11 12:44:25.97 -02:00</td>\n",
              "      <td>carnabelo@msging.net</td>\n",
              "      <td>1716352151763671@messenger.gw.msging.net</td>\n",
              "      <td>A concentraÃ§Ã£o do Batuque Coletivo vai ser n...</td>\n",
              "      <td>Bot</td>\n",
              "    </tr>\n",
              "    <tr>\n",
              "      <th>143</th>\n",
              "      <td>74763</td>\n",
              "      <td>2018-02-02 14:38:47.96 -02:00</td>\n",
              "      <td>carnabelo@msging.net</td>\n",
              "      <td>1816766838336376@messenger.gw.msging.net</td>\n",
              "      <td>Isso ai!!! ð\\nNÃ£o perca tempo, pq o bloco ...</td>\n",
              "      <td>Bot</td>\n",
              "    </tr>\n",
              "    <tr>\n",
              "      <th>4177</th>\n",
              "      <td>132615</td>\n",
              "      <td>2018-02-04 12:48:43.53 -02:00</td>\n",
              "      <td>carnabelo@msging.net</td>\n",
              "      <td>1810745895610595@messenger.gw.msging.net</td>\n",
              "      <td>DÃª uma olhada nos blocos que vÃ£o sair ainda ...</td>\n",
              "      <td>Bot</td>\n",
              "    </tr>\n",
              "    <tr>\n",
              "      <th>13584</th>\n",
              "      <td>259087</td>\n",
              "      <td>2018-02-09 18:52:35.55 -02:00</td>\n",
              "      <td>carnabelo@msging.net</td>\n",
              "      <td>1568854796502825@messenger.gw.msging.net</td>\n",
              "      <td>Tenho essas opÃ§Ãµes para te ajudar a encontra...</td>\n",
              "      <td>Bot</td>\n",
              "    </tr>\n",
              "    <tr>\n",
              "      <th>7908</th>\n",
              "      <td>197402</td>\n",
              "      <td>2018-02-07 09:48:38.47 -02:00</td>\n",
              "      <td>carnabelo@msging.net</td>\n",
              "      <td>1527144030739909@messenger.gw.msging.net</td>\n",
              "      <td>Tem muita gente falando que vai passar no San...</td>\n",
              "      <td>Bot</td>\n",
              "    </tr>\n",
              "    <tr>\n",
              "      <th>8817</th>\n",
              "      <td>206516</td>\n",
              "      <td>2018-02-07 18:09:01.26 -02:00</td>\n",
              "      <td>carnabelo@msging.net</td>\n",
              "      <td>1398429990263402@messenger.gw.msging.net</td>\n",
              "      <td>Quando estiver quase na hora te chamo por aqui...</td>\n",
              "      <td>Bot</td>\n",
              "    </tr>\n",
              "  </tbody>\n",
              "</table>\n",
              "</div>"
            ],
            "text/plain": [
              "       ï»¿MessageSequentialID  ... MessageOriginator\n",
              "25865                  350281  ...              User\n",
              "24299                  340950  ...               Bot\n",
              "9179                   211619  ...               Bot\n",
              "9123                   211080  ...               Bot\n",
              "20809                  312775  ...               Bot\n",
              "143                     74763  ...               Bot\n",
              "4177                   132615  ...               Bot\n",
              "13584                  259087  ...               Bot\n",
              "7908                   197402  ...               Bot\n",
              "8817                   206516  ...               Bot\n",
              "\n",
              "[10 rows x 6 columns]"
            ]
          },
          "metadata": {
            "tags": []
          },
          "execution_count": 16
        }
      ]
    },
    {
      "cell_type": "code",
      "metadata": {
        "colab": {
          "base_uri": "https://localhost:8080/"
        },
        "id": "_dlOEKCirho-",
        "outputId": "1526959a-bf65-42ea-f641-a7dfd7fc0c1e"
      },
      "source": [
        "dados2.info()"
      ],
      "execution_count": 17,
      "outputs": [
        {
          "output_type": "stream",
          "text": [
            "<class 'pandas.core.frame.DataFrame'>\n",
            "RangeIndex: 33754 entries, 0 to 33753\n",
            "Data columns (total 6 columns):\n",
            " #   Column                  Non-Null Count  Dtype \n",
            "---  ------                  --------------  ----- \n",
            " 0   ï»¿MessageSequentialID  33754 non-null  int64 \n",
            " 1   StorageDate             33754 non-null  object\n",
            " 2   FromIdentity            33754 non-null  object\n",
            " 3   ToIdentity              33754 non-null  object\n",
            " 4   Message                 33754 non-null  object\n",
            " 5   MessageOriginator       33754 non-null  object\n",
            "dtypes: int64(1), object(5)\n",
            "memory usage: 1.5+ MB\n"
          ],
          "name": "stdout"
        }
      ]
    },
    {
      "cell_type": "code",
      "metadata": {
        "id": "qZ8TjEjusTEU"
      },
      "source": [
        ""
      ],
      "execution_count": 17,
      "outputs": []
    }
  ]
}