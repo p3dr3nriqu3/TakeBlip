{
  "nbformat": 4,
  "nbformat_minor": 0,
  "metadata": {
    "colab": {
      "name": "TesteTakeBlip",
      "provenance": [],
      "mount_file_id": "1uKFI7BaYvtcP-TUwMaxLISl-mrCEttUR",
      "authorship_tag": "ABX9TyNDXCKvU7RUHgULUYZRw5BP",
      "include_colab_link": true
    },
    "kernelspec": {
      "name": "python3",
      "display_name": "Python 3"
    }
  },
  "cells": [
    {
      "cell_type": "markdown",
      "metadata": {
        "id": "view-in-github",
        "colab_type": "text"
      },
      "source": [
        "<a href=\"https://colab.research.google.com/github/p3dr3nriqu3/TakeBlip/blob/main/TesteTakeBlip.ipynb\" target=\"_parent\"><img src=\"https://colab.research.google.com/assets/colab-badge.svg\" alt=\"Open In Colab\"/></a>"
      ]
    },
    {
      "cell_type": "code",
      "metadata": {
        "id": "0kBU4oTatb3B"
      },
      "source": [
        "url = \"/content/drive/MyDrive/Atividade Técnica - Cai na folia/DadosBrutosEventTracks (3).csv\""
      ],
      "execution_count": 1,
      "outputs": []
    },
    {
      "cell_type": "markdown",
      "metadata": {
        "id": "Asw2Didci2QN"
      },
      "source": [
        "Importando as Bibliotecas:"
      ]
    },
    {
      "cell_type": "code",
      "metadata": {
        "id": "qkKores9R2iP"
      },
      "source": [
        "import pandas as pd\r\n",
        "import numpy as np\r\n",
        "import matplotlib.pyplot as plt\r\n",
        "import  matplotlib.ticker as ticker \r\n",
        "import seaborn as sns"
      ],
      "execution_count": 2,
      "outputs": []
    },
    {
      "cell_type": "markdown",
      "metadata": {
        "id": "NMSu2X7ajJxV"
      },
      "source": [
        "Análises:"
      ]
    },
    {
      "cell_type": "code",
      "metadata": {
        "id": "0rK_mV6HSGRR"
      },
      "source": [
        "dados = pd.read_csv(url,\r\n",
        "        error_bad_lines=False,\r\n",
        "        encoding=\"ISO-8859-1\", \r\n",
        "        #parse_dates=['datetime'], \r\n",
        "        #sep='delimiter',\r\n",
        "        engine='python',\r\n",
        "        skipfooter = 12,\r\n",
        "        sep=\";\"\r\n",
        "        #skiprows=2            \r\n",
        "        );"
      ],
      "execution_count": 3,
      "outputs": []
    },
    {
      "cell_type": "code",
      "metadata": {
        "colab": {
          "base_uri": "https://localhost:8080/",
          "height": 204
        },
        "id": "rnEdmBxrXpcF",
        "outputId": "cb5c8a22-258c-44e6-f28c-97164d17723c"
      },
      "source": [
        "#Uma pequena visualização aleatória para conhecer a base e suas variáveis.\r\n",
        "dados.sample(5)"
      ],
      "execution_count": 4,
      "outputs": [
        {
          "output_type": "execute_result",
          "data": {
            "text/html": [
              "<div>\n",
              "<style scoped>\n",
              "    .dataframe tbody tr th:only-of-type {\n",
              "        vertical-align: middle;\n",
              "    }\n",
              "\n",
              "    .dataframe tbody tr th {\n",
              "        vertical-align: top;\n",
              "    }\n",
              "\n",
              "    .dataframe thead th {\n",
              "        text-align: right;\n",
              "    }\n",
              "</style>\n",
              "<table border=\"1\" class=\"dataframe\">\n",
              "  <thead>\n",
              "    <tr style=\"text-align: right;\">\n",
              "      <th></th>\n",
              "      <th>ï»¿EventTrackSequentialID</th>\n",
              "      <th>OwnerIdentity</th>\n",
              "      <th>StorageDate</th>\n",
              "      <th>Category</th>\n",
              "      <th>Action</th>\n",
              "    </tr>\n",
              "  </thead>\n",
              "  <tbody>\n",
              "    <tr>\n",
              "      <th>48019</th>\n",
              "      <td>58104</td>\n",
              "      <td>carnabelo@msging.net</td>\n",
              "      <td>2018-02-13 15:46:29.32 -02:00</td>\n",
              "      <td>Flow</td>\n",
              "      <td>API - Consultar blocos hoje</td>\n",
              "    </tr>\n",
              "    <tr>\n",
              "      <th>23644</th>\n",
              "      <td>33729</td>\n",
              "      <td>carnabelo@msging.net</td>\n",
              "      <td>2018-02-10 12:40:56.78 -02:00</td>\n",
              "      <td>Flow</td>\n",
              "      <td>Ver outros blocos</td>\n",
              "    </tr>\n",
              "    <tr>\n",
              "      <th>48677</th>\n",
              "      <td>58762</td>\n",
              "      <td>carnabelo@msging.net</td>\n",
              "      <td>2018-02-13 17:32:01.40 -02:00</td>\n",
              "      <td>Flow</td>\n",
              "      <td>API - Consultar blocos hoje</td>\n",
              "    </tr>\n",
              "    <tr>\n",
              "      <th>28940</th>\n",
              "      <td>39025</td>\n",
              "      <td>carnabelo@msging.net</td>\n",
              "      <td>2018-02-11 07:42:17.70 -02:00</td>\n",
              "      <td>Flow</td>\n",
              "      <td>Menu</td>\n",
              "    </tr>\n",
              "    <tr>\n",
              "      <th>36421</th>\n",
              "      <td>46506</td>\n",
              "      <td>carnabelo@msging.net</td>\n",
              "      <td>2018-02-12 11:18:19.02 -02:00</td>\n",
              "      <td>Flow</td>\n",
              "      <td>API - Consultar blocos hoje</td>\n",
              "    </tr>\n",
              "  </tbody>\n",
              "</table>\n",
              "</div>"
            ],
            "text/plain": [
              "       ï»¿EventTrackSequentialID  ...                       Action\n",
              "48019                      58104  ...  API - Consultar blocos hoje\n",
              "23644                      33729  ...            Ver outros blocos\n",
              "48677                      58762  ...  API - Consultar blocos hoje\n",
              "28940                      39025  ...                         Menu\n",
              "36421                      46506  ...  API - Consultar blocos hoje\n",
              "\n",
              "[5 rows x 5 columns]"
            ]
          },
          "metadata": {
            "tags": []
          },
          "execution_count": 4
        }
      ]
    },
    {
      "cell_type": "code",
      "metadata": {
        "colab": {
          "base_uri": "https://localhost:8080/"
        },
        "id": "M8ogC4w_dC_G",
        "outputId": "9ba37da9-1a41-4e79-9867-dda47e2a91f1"
      },
      "source": [
        "dados.info()"
      ],
      "execution_count": 5,
      "outputs": [
        {
          "output_type": "stream",
          "text": [
            "<class 'pandas.core.frame.DataFrame'>\n",
            "RangeIndex: 52888 entries, 0 to 52887\n",
            "Data columns (total 5 columns):\n",
            " #   Column                     Non-Null Count  Dtype \n",
            "---  ------                     --------------  ----- \n",
            " 0   ï»¿EventTrackSequentialID  52888 non-null  int64 \n",
            " 1   OwnerIdentity              52888 non-null  object\n",
            " 2   StorageDate                52888 non-null  object\n",
            " 3   Category                   52888 non-null  object\n",
            " 4   Action                     52888 non-null  object\n",
            "dtypes: int64(1), object(4)\n",
            "memory usage: 2.0+ MB\n"
          ],
          "name": "stdout"
        }
      ]
    },
    {
      "cell_type": "code",
      "metadata": {
        "id": "2UyppiOxjiHK"
      },
      "source": [
        "#Alterando o tipo da coluna \"StorageDate\" apra Datetime.\r\n",
        "dados['StorageDate'] = pd.to_datetime(dados['StorageDate'],yearfirst=True)"
      ],
      "execution_count": 6,
      "outputs": []
    },
    {
      "cell_type": "code",
      "metadata": {
        "colab": {
          "base_uri": "https://localhost:8080/"
        },
        "id": "SvqOlqw-j66m",
        "outputId": "d148dfee-6c54-4826-aac0-57fb4032fd07"
      },
      "source": [
        "dados.info()"
      ],
      "execution_count": 7,
      "outputs": [
        {
          "output_type": "stream",
          "text": [
            "<class 'pandas.core.frame.DataFrame'>\n",
            "RangeIndex: 52888 entries, 0 to 52887\n",
            "Data columns (total 5 columns):\n",
            " #   Column                     Non-Null Count  Dtype \n",
            "---  ------                     --------------  ----- \n",
            " 0   ï»¿EventTrackSequentialID  52888 non-null  int64 \n",
            " 1   OwnerIdentity              52888 non-null  object\n",
            " 2   StorageDate                52888 non-null  object\n",
            " 3   Category                   52888 non-null  object\n",
            " 4   Action                     52888 non-null  object\n",
            "dtypes: int64(1), object(4)\n",
            "memory usage: 2.0+ MB\n"
          ],
          "name": "stdout"
        }
      ]
    },
    {
      "cell_type": "code",
      "metadata": {
        "colab": {
          "base_uri": "https://localhost:8080/",
          "height": 204
        },
        "id": "SBN6wh6kdG1c",
        "outputId": "a111b450-d783-4531-ecae-f3ee3b1ae31b"
      },
      "source": [
        "#Lendo as 5 primeira linhas do arquivo\r\n",
        "dados.head()"
      ],
      "execution_count": 8,
      "outputs": [
        {
          "output_type": "execute_result",
          "data": {
            "text/html": [
              "<div>\n",
              "<style scoped>\n",
              "    .dataframe tbody tr th:only-of-type {\n",
              "        vertical-align: middle;\n",
              "    }\n",
              "\n",
              "    .dataframe tbody tr th {\n",
              "        vertical-align: top;\n",
              "    }\n",
              "\n",
              "    .dataframe thead th {\n",
              "        text-align: right;\n",
              "    }\n",
              "</style>\n",
              "<table border=\"1\" class=\"dataframe\">\n",
              "  <thead>\n",
              "    <tr style=\"text-align: right;\">\n",
              "      <th></th>\n",
              "      <th>ï»¿EventTrackSequentialID</th>\n",
              "      <th>OwnerIdentity</th>\n",
              "      <th>StorageDate</th>\n",
              "      <th>Category</th>\n",
              "      <th>Action</th>\n",
              "    </tr>\n",
              "  </thead>\n",
              "  <tbody>\n",
              "    <tr>\n",
              "      <th>0</th>\n",
              "      <td>100</td>\n",
              "      <td>carnabelo@msging.net</td>\n",
              "      <td>2018-02-02 13:51:59.720000-02:00</td>\n",
              "      <td>Flow</td>\n",
              "      <td>Boas vindas</td>\n",
              "    </tr>\n",
              "    <tr>\n",
              "      <th>1</th>\n",
              "      <td>101</td>\n",
              "      <td>carnabelo@msging.net</td>\n",
              "      <td>2018-02-02 13:52:10.890000-02:00</td>\n",
              "      <td>Flow</td>\n",
              "      <td>Objetivo - Beber</td>\n",
              "    </tr>\n",
              "    <tr>\n",
              "      <th>2</th>\n",
              "      <td>102</td>\n",
              "      <td>carnabelo@msging.net</td>\n",
              "      <td>2018-02-02 13:52:10.980000-02:00</td>\n",
              "      <td>Objetivo</td>\n",
              "      <td>Beber</td>\n",
              "    </tr>\n",
              "    <tr>\n",
              "      <th>3</th>\n",
              "      <td>103</td>\n",
              "      <td>carnabelo@msging.net</td>\n",
              "      <td>2018-02-02 13:52:13.150000-02:00</td>\n",
              "      <td>Flow</td>\n",
              "      <td>Intro</td>\n",
              "    </tr>\n",
              "    <tr>\n",
              "      <th>4</th>\n",
              "      <td>104</td>\n",
              "      <td>carnabelo@msging.net</td>\n",
              "      <td>2018-02-02 13:52:17.340000-02:00</td>\n",
              "      <td>Flow</td>\n",
              "      <td>Menu</td>\n",
              "    </tr>\n",
              "  </tbody>\n",
              "</table>\n",
              "</div>"
            ],
            "text/plain": [
              "   ï»¿EventTrackSequentialID         OwnerIdentity  ...  Category            Action\n",
              "0                        100  carnabelo@msging.net  ...      Flow       Boas vindas\n",
              "1                        101  carnabelo@msging.net  ...      Flow  Objetivo - Beber\n",
              "2                        102  carnabelo@msging.net  ...  Objetivo             Beber\n",
              "3                        103  carnabelo@msging.net  ...      Flow             Intro\n",
              "4                        104  carnabelo@msging.net  ...      Flow              Menu\n",
              "\n",
              "[5 rows x 5 columns]"
            ]
          },
          "metadata": {
            "tags": []
          },
          "execution_count": 8
        }
      ]
    },
    {
      "cell_type": "code",
      "metadata": {
        "colab": {
          "base_uri": "https://localhost:8080/",
          "height": 204
        },
        "id": "mLfmloXxliOy",
        "outputId": "c5082652-c98e-49ec-91c4-b4a9af6e9faf"
      },
      "source": [
        "#Lendo as 5 ultimas linhas do arquivo\r\n",
        "dados.tail()"
      ],
      "execution_count": 12,
      "outputs": [
        {
          "output_type": "execute_result",
          "data": {
            "text/html": [
              "<div>\n",
              "<style scoped>\n",
              "    .dataframe tbody tr th:only-of-type {\n",
              "        vertical-align: middle;\n",
              "    }\n",
              "\n",
              "    .dataframe tbody tr th {\n",
              "        vertical-align: top;\n",
              "    }\n",
              "\n",
              "    .dataframe thead th {\n",
              "        text-align: right;\n",
              "    }\n",
              "</style>\n",
              "<table border=\"1\" class=\"dataframe\">\n",
              "  <thead>\n",
              "    <tr style=\"text-align: right;\">\n",
              "      <th></th>\n",
              "      <th>ï»¿EventTrackSequentialID</th>\n",
              "      <th>OwnerIdentity</th>\n",
              "      <th>StorageDate</th>\n",
              "      <th>Category</th>\n",
              "      <th>Action</th>\n",
              "    </tr>\n",
              "  </thead>\n",
              "  <tbody>\n",
              "    <tr>\n",
              "      <th>52883</th>\n",
              "      <td>62968</td>\n",
              "      <td>carnabelo@msging.net</td>\n",
              "      <td>2018-02-27 09:10:51.160000-03:00</td>\n",
              "      <td>Flow</td>\n",
              "      <td>Fallback - Diversos</td>\n",
              "    </tr>\n",
              "    <tr>\n",
              "      <th>52884</th>\n",
              "      <td>62969</td>\n",
              "      <td>carnabelo@msging.net</td>\n",
              "      <td>2018-02-27 09:10:51.250000-03:00</td>\n",
              "      <td>Flow</td>\n",
              "      <td>Fallback - Musica</td>\n",
              "    </tr>\n",
              "    <tr>\n",
              "      <th>52885</th>\n",
              "      <td>62970</td>\n",
              "      <td>carnabelo@msging.net</td>\n",
              "      <td>2018-02-27 09:10:51.340000-03:00</td>\n",
              "      <td>Flow</td>\n",
              "      <td>Playlists</td>\n",
              "    </tr>\n",
              "    <tr>\n",
              "      <th>52886</th>\n",
              "      <td>62971</td>\n",
              "      <td>carnabelo@msging.net</td>\n",
              "      <td>2018-02-27 09:10:53.480000-03:00</td>\n",
              "      <td>Flow</td>\n",
              "      <td>Ouvir playlist</td>\n",
              "    </tr>\n",
              "    <tr>\n",
              "      <th>52887</th>\n",
              "      <td>62972</td>\n",
              "      <td>carnabelo@msging.net</td>\n",
              "      <td>2018-02-27 09:15:24.220000-03:00</td>\n",
              "      <td>Flow</td>\n",
              "      <td>Intro - Bot</td>\n",
              "    </tr>\n",
              "  </tbody>\n",
              "</table>\n",
              "</div>"
            ],
            "text/plain": [
              "       ï»¿EventTrackSequentialID  ...               Action\n",
              "52883                      62968  ...  Fallback - Diversos\n",
              "52884                      62969  ...    Fallback - Musica\n",
              "52885                      62970  ...            Playlists\n",
              "52886                      62971  ...       Ouvir playlist\n",
              "52887                      62972  ...          Intro - Bot\n",
              "\n",
              "[5 rows x 5 columns]"
            ]
          },
          "metadata": {
            "tags": []
          },
          "execution_count": 12
        }
      ]
    },
    {
      "cell_type": "code",
      "metadata": {
        "colab": {
          "base_uri": "https://localhost:8080/"
        },
        "id": "sDJK_k1VhK7f",
        "outputId": "83817d6c-7824-4adb-966d-6d56d2f444b4"
      },
      "source": [
        "#Quantidades de linas e colunas do DataFrame\r\n",
        "dados.shape"
      ],
      "execution_count": 9,
      "outputs": [
        {
          "output_type": "execute_result",
          "data": {
            "text/plain": [
              "(52888, 5)"
            ]
          },
          "metadata": {
            "tags": []
          },
          "execution_count": 9
        }
      ]
    },
    {
      "cell_type": "code",
      "metadata": {
        "colab": {
          "base_uri": "https://localhost:8080/"
        },
        "id": "IDGGAugIhibc",
        "outputId": "4cb24a32-2fc4-43fe-e9ed-f938d9d34e13"
      },
      "source": [
        "#Descrição do Index\r\n",
        "dados.index"
      ],
      "execution_count": 10,
      "outputs": [
        {
          "output_type": "execute_result",
          "data": {
            "text/plain": [
              "RangeIndex(start=0, stop=52888, step=1)"
            ]
          },
          "metadata": {
            "tags": []
          },
          "execution_count": 10
        }
      ]
    },
    {
      "cell_type": "code",
      "metadata": {
        "colab": {
          "base_uri": "https://localhost:8080/"
        },
        "id": "7Qpb6Zf3hvKv",
        "outputId": "62af783f-3cc7-45ed-db93-9aa6cbbc19f4"
      },
      "source": [
        "#Contagem de Dados Não Nulos\r\n",
        "dados.count()"
      ],
      "execution_count": 11,
      "outputs": [
        {
          "output_type": "execute_result",
          "data": {
            "text/plain": [
              "ï»¿EventTrackSequentialID    52888\n",
              "OwnerIdentity                52888\n",
              "StorageDate                  52888\n",
              "Category                     52888\n",
              "Action                       52888\n",
              "dtype: int64"
            ]
          },
          "metadata": {
            "tags": []
          },
          "execution_count": 11
        }
      ]
    },
    {
      "cell_type": "code",
      "metadata": {
        "colab": {
          "base_uri": "https://localhost:8080/"
        },
        "id": "iN2dooXGmETA",
        "outputId": "1b69a8b7-9c83-4573-afb5-1dadc3b6ade9"
      },
      "source": [
        "dados[\"OwnerIdentity\"]"
      ],
      "execution_count": 17,
      "outputs": [
        {
          "output_type": "execute_result",
          "data": {
            "text/plain": [
              "0        carnabelo@msging.net\n",
              "1        carnabelo@msging.net\n",
              "2        carnabelo@msging.net\n",
              "3        carnabelo@msging.net\n",
              "4        carnabelo@msging.net\n",
              "                 ...         \n",
              "52883    carnabelo@msging.net\n",
              "52884    carnabelo@msging.net\n",
              "52885    carnabelo@msging.net\n",
              "52886    carnabelo@msging.net\n",
              "52887    carnabelo@msging.net\n",
              "Name: OwnerIdentity, Length: 52888, dtype: object"
            ]
          },
          "metadata": {
            "tags": []
          },
          "execution_count": 17
        }
      ]
    },
    {
      "cell_type": "code",
      "metadata": {
        "id": "HyXaMd7_mkzD"
      },
      "source": [
        "url2 = \"/content/drive/MyDrive/Atividade Técnica - Cai na folia/DadosBrutosMessages (1).csv\""
      ],
      "execution_count": 18,
      "outputs": []
    },
    {
      "cell_type": "code",
      "metadata": {
        "id": "hYoImk2grOLK"
      },
      "source": [
        "dados2 = pd.read_csv(url2,\r\n",
        "        error_bad_lines=False,\r\n",
        "        encoding=\"ISO-8859-1\", \r\n",
        "        #parse_dates=['datetime'], \r\n",
        "        #sep='delimiter',\r\n",
        "        engine='python',\r\n",
        "        skipfooter = 12,\r\n",
        "        sep=\";\"\r\n",
        "        #skiprows=2            \r\n",
        "        );"
      ],
      "execution_count": 21,
      "outputs": []
    },
    {
      "cell_type": "code",
      "metadata": {
        "colab": {
          "base_uri": "https://localhost:8080/",
          "height": 767
        },
        "id": "8ReWqN2yrXuM",
        "outputId": "c4f9e87f-1f06-4032-a943-f8f3501c911e"
      },
      "source": [
        "dados2.sample(10)"
      ],
      "execution_count": 24,
      "outputs": [
        {
          "output_type": "execute_result",
          "data": {
            "text/html": [
              "<div>\n",
              "<style scoped>\n",
              "    .dataframe tbody tr th:only-of-type {\n",
              "        vertical-align: middle;\n",
              "    }\n",
              "\n",
              "    .dataframe tbody tr th {\n",
              "        vertical-align: top;\n",
              "    }\n",
              "\n",
              "    .dataframe thead th {\n",
              "        text-align: right;\n",
              "    }\n",
              "</style>\n",
              "<table border=\"1\" class=\"dataframe\">\n",
              "  <thead>\n",
              "    <tr style=\"text-align: right;\">\n",
              "      <th></th>\n",
              "      <th>ï»¿MessageSequentialID</th>\n",
              "      <th>StorageDate</th>\n",
              "      <th>FromIdentity</th>\n",
              "      <th>ToIdentity</th>\n",
              "      <th>Message</th>\n",
              "      <th>MessageOriginator</th>\n",
              "    </tr>\n",
              "  </thead>\n",
              "  <tbody>\n",
              "    <tr>\n",
              "      <th>24255</th>\n",
              "      <td>340699</td>\n",
              "      <td>2018-02-12 11:19:50.64 -02:00</td>\n",
              "      <td>1619371378145611@messenger.gw.msging.net</td>\n",
              "      <td>carnabelo@msging.net</td>\n",
              "      <td>MenuAgenda</td>\n",
              "      <td>User</td>\n",
              "    </tr>\n",
              "    <tr>\n",
              "      <th>5881</th>\n",
              "      <td>163958</td>\n",
              "      <td>2018-02-05 22:54:20.20 -02:00</td>\n",
              "      <td>carnabelo@msging.net</td>\n",
              "      <td>1547196358669261@messenger.gw.msging.net</td>\n",
              "      <td>Em qual bloco vc vai? ð</td>\n",
              "      <td>Bot</td>\n",
              "    </tr>\n",
              "    <tr>\n",
              "      <th>27844</th>\n",
              "      <td>363083</td>\n",
              "      <td>2018-02-13 00:50:52.92 -02:00</td>\n",
              "      <td>carnabelo@msging.net</td>\n",
              "      <td>1664644103616129@messenger.gw.msging.net</td>\n",
              "      <td>Que tal se planejar para os prÃ³ximos dias de ...</td>\n",
              "      <td>Bot</td>\n",
              "    </tr>\n",
              "    <tr>\n",
              "      <th>19070</th>\n",
              "      <td>297291</td>\n",
              "      <td>2018-02-10 23:37:25.01 -02:00</td>\n",
              "      <td>carnabelo@msging.net</td>\n",
              "      <td>1797986020276425@messenger.gw.msging.net</td>\n",
              "      <td>Quando estiver quase na hora te chamo por aqui...</td>\n",
              "      <td>Bot</td>\n",
              "    </tr>\n",
              "    <tr>\n",
              "      <th>22101</th>\n",
              "      <td>321659</td>\n",
              "      <td>2018-02-11 19:04:07.30 -02:00</td>\n",
              "      <td>carnabelo@msging.net</td>\n",
              "      <td>1915222105219201@messenger.gw.msging.net</td>\n",
              "      <td>A cidade toda vai bombar!</td>\n",
              "      <td>Bot</td>\n",
              "    </tr>\n",
              "    <tr>\n",
              "      <th>8886</th>\n",
              "      <td>206841</td>\n",
              "      <td>2018-02-07 18:20:59.73 -02:00</td>\n",
              "      <td>carnabelo@msging.net</td>\n",
              "      <td>1812764585461465@messenger.gw.msging.net</td>\n",
              "      <td>Parece que vai rolar muita coisa boa no Savassi</td>\n",
              "      <td>Bot</td>\n",
              "    </tr>\n",
              "    <tr>\n",
              "      <th>9952</th>\n",
              "      <td>225211</td>\n",
              "      <td>2018-02-08 13:56:35.79 -02:00</td>\n",
              "      <td>carnabelo@msging.net</td>\n",
              "      <td>1798868836812358@messenger.gw.msging.net</td>\n",
              "      <td>Tem muita gente falando que vai passar no Cen...</td>\n",
              "      <td>Bot</td>\n",
              "    </tr>\n",
              "    <tr>\n",
              "      <th>8393</th>\n",
              "      <td>202617</td>\n",
              "      <td>2018-02-07 14:38:44.82 -02:00</td>\n",
              "      <td>carnabelo@msging.net</td>\n",
              "      <td>1823341201073670@messenger.gw.msging.net</td>\n",
              "      <td>Em qual bloco vc vai? ð</td>\n",
              "      <td>Bot</td>\n",
              "    </tr>\n",
              "    <tr>\n",
              "      <th>33520</th>\n",
              "      <td>444359</td>\n",
              "      <td>2018-02-16 09:27:29.56 -02:00</td>\n",
              "      <td>1331416650292246@messenger.gw.msging.net</td>\n",
              "      <td>carnabelo@msging.net</td>\n",
              "      <td>dancar</td>\n",
              "      <td>User</td>\n",
              "    </tr>\n",
              "    <tr>\n",
              "      <th>373</th>\n",
              "      <td>76121</td>\n",
              "      <td>2018-02-02 15:24:08.86 -02:00</td>\n",
              "      <td>carnabelo@msging.net</td>\n",
              "      <td>1817065725033319@messenger.gw.msging.net</td>\n",
              "      <td>Boa tarde! ð</td>\n",
              "      <td>Bot</td>\n",
              "    </tr>\n",
              "  </tbody>\n",
              "</table>\n",
              "</div>"
            ],
            "text/plain": [
              "       ï»¿MessageSequentialID  ... MessageOriginator\n",
              "24255                  340699  ...              User\n",
              "5881                   163958  ...               Bot\n",
              "27844                  363083  ...               Bot\n",
              "19070                  297291  ...               Bot\n",
              "22101                  321659  ...               Bot\n",
              "8886                   206841  ...               Bot\n",
              "9952                   225211  ...               Bot\n",
              "8393                   202617  ...               Bot\n",
              "33520                  444359  ...              User\n",
              "373                     76121  ...               Bot\n",
              "\n",
              "[10 rows x 6 columns]"
            ]
          },
          "metadata": {
            "tags": []
          },
          "execution_count": 24
        }
      ]
    },
    {
      "cell_type": "code",
      "metadata": {
        "colab": {
          "base_uri": "https://localhost:8080/"
        },
        "id": "_dlOEKCirho-",
        "outputId": "910df138-3d15-4593-dac9-600e39eb38be"
      },
      "source": [
        "dados2.info()"
      ],
      "execution_count": 23,
      "outputs": [
        {
          "output_type": "stream",
          "text": [
            "<class 'pandas.core.frame.DataFrame'>\n",
            "RangeIndex: 33754 entries, 0 to 33753\n",
            "Data columns (total 6 columns):\n",
            " #   Column                  Non-Null Count  Dtype \n",
            "---  ------                  --------------  ----- \n",
            " 0   ï»¿MessageSequentialID  33754 non-null  int64 \n",
            " 1   StorageDate             33754 non-null  object\n",
            " 2   FromIdentity            33754 non-null  object\n",
            " 3   ToIdentity              33754 non-null  object\n",
            " 4   Message                 33754 non-null  object\n",
            " 5   MessageOriginator       33754 non-null  object\n",
            "dtypes: int64(1), object(5)\n",
            "memory usage: 1.5+ MB\n"
          ],
          "name": "stdout"
        }
      ]
    },
    {
      "cell_type": "code",
      "metadata": {
        "id": "qZ8TjEjusTEU"
      },
      "source": [
        ""
      ],
      "execution_count": null,
      "outputs": []
    }
  ]
}